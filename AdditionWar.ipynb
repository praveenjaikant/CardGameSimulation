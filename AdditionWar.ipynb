{
 "cells": [
  {
   "cell_type": "markdown",
   "metadata": {},
   "source": [
    "### Simulating a card game:"
   ]
  },
  {
   "cell_type": "markdown",
   "metadata": {},
   "source": [
    "In the classic card game War, a standard deck of (52) playing cards is shuffled and distributed evenly among two players (26 cards each). For each round of game play, the players lay out one card at a time (for our purposes, in order of how they have been dealt) and the player with the higher card wins the round (where Ace = 1, 2-10 equal their face value, and Jack, Queen, and King = 11, 12, 13, respectively, across each of the four suits: diamonds, hearts, clubs, spades). Ties are broken with additional plays until one player wins the full round (i.e., all of the cards played during the round, including those that were tied). Although variations of the game can continue until one player wins all of the cards, let's consider the simple case in which cards won during a previous round cannot be replayed.\n",
    "\n",
    "A variant of War, called Addition War, consists of two cards being played by each player at a time, where the player with the higher sum of two card values wins the round. Similar to the original game, ties are broken with additional plays of two cards each until one player wins all of the cards in the round. Once all cards have been played (once), the player with the higher score (sum of collected card values) wins the game. If the players run out of cards in the middle of a tiebreaker, assume that each player's respective cards (for that round) are returned to them for the final score."
   ]
  },
  {
   "cell_type": "markdown",
   "metadata": {},
   "source": [
    "The following script generates a list of values associated with a standard deck of playing cards. There is no need to differentiate between suits (i.e., diamonds, hearts, clubs, spades), as they have no relevance for this particular game. Also generating the total value associated with a full deck of cards, which represents the maximum total for a game."
   ]
  },
  {
   "cell_type": "code",
   "execution_count": 1,
   "metadata": {},
   "outputs": [
    {
     "data": {
      "text/plain": [
       "364"
      ]
     },
     "execution_count": 1,
     "metadata": {},
     "output_type": "execute_result"
    }
   ],
   "source": [
    "import numpy as np\n",
    "cards = list(range(1,14)) * 4 # Generating cards with values from 1 to 13. Multiplying by 4 for all suits.\n",
    "SumOfValues = np.sum(cards)\n",
    "SumOfValues"
   ]
  },
  {
   "cell_type": "markdown",
   "metadata": {},
   "source": [
    "The following function deal shuffles and distributes 52 playing cards evenly to two players (26 each) and returns a tuple of each player's hand (as a list of values). The function does take in any arguments, and creates the deck of values internally. The operation has been validated by dealing a hand to two players and displaying each player's hand along with their number of cards and the associated total value."
   ]
  },
  {
   "cell_type": "code",
   "execution_count": 2,
   "metadata": {},
   "outputs": [
    {
     "name": "stdout",
     "output_type": "stream",
     "text": [
      "Player 1 has the cards:\n",
      " [13, 8, 13, 13, 1, 12, 5, 2, 12, 7, 11, 9, 6, 1, 6, 9, 8, 5, 10, 1, 9, 8, 2, 10, 5, 11]\n",
      "\n",
      "Player 2 has the cards:\n",
      " [1, 10, 12, 6, 3, 8, 5, 7, 4, 7, 13, 12, 3, 7, 4, 10, 11, 11, 6, 3, 3, 2, 4, 9, 2, 4]\n",
      "\n",
      "Number of cards with Player 1:  26\n",
      "Number of cards with Player 2:  26\n",
      "\n",
      "Sum of value of cards with Player 1:  197\n",
      "Sum of value of cards with Player 2:  167\n"
     ]
    }
   ],
   "source": [
    "def deal():\n",
    "    np.random.shuffle(cards)\n",
    "    Player1 = cards[0:26]\n",
    "    Player2 = cards[26:53]\n",
    "    hand = (Player1, Player2)\n",
    "    return tuple(hand)\n",
    "\n",
    "Deal = deal()\n",
    "print('Player 1 has the cards:\\n', Deal[0])\n",
    "print('\\nPlayer 2 has the cards:\\n',Deal[1])\n",
    "print('\\nNumber of cards with Player 1: ', len(Deal[0]))\n",
    "print('Number of cards with Player 2: ', len(Deal[1]))\n",
    "print('\\nSum of value of cards with Player 1: ',np.sum(Deal[0]))\n",
    "print('Sum of value of cards with Player 2: ',np.sum(Deal[1]))"
   ]
  },
  {
   "cell_type": "markdown",
   "metadata": {},
   "source": [
    "The function play that simulates a single game of Addition War between two players. It accounts for rounds in which a given player wins outright (i.e., after the initial play of two cards) and for rounds in which one or more ties occur. It also terminates the game appropriately (i.e., after each player has played all of their cards once).\n",
    "\n",
    "Similar to the deal function, this function does not take in any arguments. The function prints information about each round of play, which will assist in validating the operation of the function. Finally, the function stores and outputs the initial value totals for each player's hand (i.e., after dealing), the final value totals for each player (i.e., after playing the full game), and the winner (i.e., the player with the higher total).\n",
    "\n",
    "The operation has been validated of your function by simulating one game with ties."
   ]
  },
  {
   "cell_type": "code",
   "execution_count": 6,
   "metadata": {},
   "outputs": [],
   "source": [
    "def play(): # defining play function\n",
    "    Wins_P1 = 0 # initializing points won by Player 1 to 0\n",
    "    Wins_P2 = 0 # initializing points won by Player 2 to 0\n",
    "    tie_flag = 0 # initializing tie indicator to 0\n",
    "    total_tie_sum = 0 # initializing total tie sum to 0; used to calculate the residual sum in case of ties\n",
    "    \n",
    "    Deal1 = deal() # dealing the cards\n",
    "    \n",
    "    print('Player 1 has the cards:\\n', Deal1[0]) # Player 1's cards\n",
    "    print('Player 2 has the cards:\\n',Deal1[1]) # Player 2's cards\n",
    "    \n",
    "    InitTotal_P1 = np.sum(Deal1[0]) # sum of all cards initially handed to Player 1\n",
    "    InitTotal_P2 = np.sum(Deal1[1]) # sum of all cards initially handed to Player 2\n",
    "    \n",
    "    print('\\nInitial Total of cards of Player 1:', InitTotal_P1)\n",
    "    print('Initial Total of cards of Player 2:', InitTotal_P2)\n",
    "    \n",
    "    while (len(Deal1[0])>0 and len(Deal1[1])>0): # while the players have not run out of cards\n",
    "        card1_Player1 = Deal1[0].pop(0) # take out first card for Player 1\n",
    "        card2_Player1 = Deal1[0].pop(0) # take out second card for Player 1\n",
    "        # InitTotal_P1+= card1_Player1 + card2_Player1\n",
    "        print('\\nPlayer 1 cards: ',card1_Player1,' and ', card2_Player1)\n",
    "        \n",
    "        card1_Player2 = Deal1[1].pop(0) # take out first card for Player 2\n",
    "        card2_Player2 = Deal1[1].pop(0) # take out second card for Player 2\n",
    "        # InitTotal_P2+= card1_Player2 + card2_Player2\n",
    "        print('Player 2 cards: ',card1_Player2,' and ', card2_Player2)\n",
    "        \n",
    "        sum_Player1 = card1_Player1 + card2_Player1 # sum of values of cards of Player 1\n",
    "        print('\\nSum of values of Player 1 cards: ', sum_Player1)\n",
    "        sum_Player2 = card1_Player2 + card2_Player2 # sum of values of cards of Player 2\n",
    "        print('Sum of values of Player 2 cards: ', sum_Player2)\n",
    "        \n",
    "        if sum_Player1 > sum_Player2: # if sum of values of Player 1 > sum of values of Player 2\n",
    "            if tie_flag == 0: # in case previous round was not a tie\n",
    "                Wins_P1 += sum_Player1 + sum_Player2 # points won by Player 1 in case of no tie\n",
    "                print('\\nPlayer 1 wins this round')\n",
    "                print('Number of points won by Player 1 = ',Wins_P1)\n",
    "                print('Number of points won by Player 2 = ',Wins_P2)\n",
    "            \n",
    "            elif tie_flag == 1: # in case previous round was a tie\n",
    "                Wins_P1 += sum_Player1 + sum_Player2 + total_tie_sum # points won by Player 1 in case of tie\n",
    "                tie_flag = 0 # breaking the tie\n",
    "                total_tie_sum = 0 # removing residual sum\n",
    "                print('\\nPlayer 1 wins this round')\n",
    "                print('\\nNumber of points won by Player 1 = ',Wins_P1)\n",
    "                print('Number of points won by Player 2 = ',Wins_P2)\n",
    "            \n",
    "        elif sum_Player2 > sum_Player1: # if sum of values of Player 2 > sum of values of Player 1\n",
    "            if tie_flag == 0: # in case previous round was not a tie\n",
    "                Wins_P2 += sum_Player1 + sum_Player2 # points won by Player 2 in case of no tie\n",
    "                print('\\nPlayer 2 wins this round')\n",
    "                print('\\nNumber of points won by Player 1 = ',Wins_P1)\n",
    "                print('Number of points won by Player 2 = ',Wins_P2)\n",
    "            \n",
    "            if tie_flag == 1: # in case previous round was a tie\n",
    "                Wins_P2 += sum_Player1 + sum_Player2 + total_tie_sum # points won by Player 2 in case of tie\n",
    "                tie_flag = 0 # breaking the tie\n",
    "                total_tie_sum = 0 # removing residual sum\n",
    "                print('\\nPlayer 2 wins this round')\n",
    "                print('Number of points won by Player 1 = ',Wins_P1)\n",
    "                print('Number of points won by Player 2 = ',Wins_P2)\n",
    "            \n",
    "        elif sum_Player2 == sum_Player1: # in case of tie\n",
    "            print('\\nIt is a tie, taking next two cards')\n",
    "            tie_flag = 1 # initializing tie indicator to 1\n",
    "            tie_sum = sum_Player1 + sum_Player2 # sum of values of tied cards \n",
    "            total_tie_sum += tie_sum # adding to total tie sum, takes care of scenarios where there are continuous ties\n",
    "    \n",
    "    if Wins_P1 > Wins_P2: # if player 1 wins the game\n",
    "        winner = 1\n",
    "        print('\\nPlayer 1 wins!')\n",
    "        print('Final Total of cards of Player 1:', Wins_P1)\n",
    "        print('\\nPlayer 2 loses!')\n",
    "        print('Final Total of cards of Player 2:', Wins_P2)\n",
    "        return\n",
    "    \n",
    "    elif Wins_P2 > Wins_P1: # if player 2 wins the game\n",
    "        winner = 2\n",
    "        print('\\nPlayer 2 wins!')\n",
    "        print('Final Total of cards of Player 2:', Wins_P2)\n",
    "        print('\\nPlayer 1 loses!')\n",
    "        print('Final Total of cards of Player 1:', Wins_P1)\n",
    "        return\n",
    "        \n",
    "    elif Wins_P2 == Wins_P1: # in case of draw\n",
    "        winner = 0 \n",
    "        print('\\nGame is drawn!')\n",
    "        print('Final Total of cards of Player 1:', Wins_P1)\n",
    "        print('Final Total of cards of Player 1:', Wins_P1)\n",
    "        return"
   ]
  },
  {
   "cell_type": "code",
   "execution_count": 7,
   "metadata": {},
   "outputs": [
    {
     "name": "stdout",
     "output_type": "stream",
     "text": [
      "Player 1 has the cards:\n",
      " [3, 7, 7, 7, 8, 6, 5, 2, 13, 1, 3, 11, 11, 9, 1, 2, 11, 9, 6, 13, 11, 4, 8, 10, 5, 13]\n",
      "Player 2 has the cards:\n",
      " [12, 7, 9, 1, 3, 3, 4, 1, 6, 12, 2, 8, 10, 12, 10, 4, 12, 8, 4, 10, 13, 5, 6, 5, 9, 2]\n",
      "\n",
      "Initial Total of cards of Player 1: 186\n",
      "Initial Total of cards of Player 2: 178\n",
      "\n",
      "Player 1 cards:  3  and  7\n",
      "Player 2 cards:  12  and  7\n",
      "\n",
      "Sum of values of Player 1 cards:  10\n",
      "Sum of values of Player 2 cards:  19\n",
      "\n",
      "Player 2 wins this round\n",
      "\n",
      "Number of points won by Player 1 =  0\n",
      "Number of points won by Player 2 =  29\n",
      "\n",
      "Player 1 cards:  7  and  7\n",
      "Player 2 cards:  9  and  1\n",
      "\n",
      "Sum of values of Player 1 cards:  14\n",
      "Sum of values of Player 2 cards:  10\n",
      "\n",
      "Player 1 wins this round\n",
      "Number of points won by Player 1 =  24\n",
      "Number of points won by Player 2 =  29\n",
      "\n",
      "Player 1 cards:  8  and  6\n",
      "Player 2 cards:  3  and  3\n",
      "\n",
      "Sum of values of Player 1 cards:  14\n",
      "Sum of values of Player 2 cards:  6\n",
      "\n",
      "Player 1 wins this round\n",
      "Number of points won by Player 1 =  44\n",
      "Number of points won by Player 2 =  29\n",
      "\n",
      "Player 1 cards:  5  and  2\n",
      "Player 2 cards:  4  and  1\n",
      "\n",
      "Sum of values of Player 1 cards:  7\n",
      "Sum of values of Player 2 cards:  5\n",
      "\n",
      "Player 1 wins this round\n",
      "Number of points won by Player 1 =  56\n",
      "Number of points won by Player 2 =  29\n",
      "\n",
      "Player 1 cards:  13  and  1\n",
      "Player 2 cards:  6  and  12\n",
      "\n",
      "Sum of values of Player 1 cards:  14\n",
      "Sum of values of Player 2 cards:  18\n",
      "\n",
      "Player 2 wins this round\n",
      "\n",
      "Number of points won by Player 1 =  56\n",
      "Number of points won by Player 2 =  61\n",
      "\n",
      "Player 1 cards:  3  and  11\n",
      "Player 2 cards:  2  and  8\n",
      "\n",
      "Sum of values of Player 1 cards:  14\n",
      "Sum of values of Player 2 cards:  10\n",
      "\n",
      "Player 1 wins this round\n",
      "Number of points won by Player 1 =  80\n",
      "Number of points won by Player 2 =  61\n",
      "\n",
      "Player 1 cards:  11  and  9\n",
      "Player 2 cards:  10  and  12\n",
      "\n",
      "Sum of values of Player 1 cards:  20\n",
      "Sum of values of Player 2 cards:  22\n",
      "\n",
      "Player 2 wins this round\n",
      "\n",
      "Number of points won by Player 1 =  80\n",
      "Number of points won by Player 2 =  103\n",
      "\n",
      "Player 1 cards:  1  and  2\n",
      "Player 2 cards:  10  and  4\n",
      "\n",
      "Sum of values of Player 1 cards:  3\n",
      "Sum of values of Player 2 cards:  14\n",
      "\n",
      "Player 2 wins this round\n",
      "\n",
      "Number of points won by Player 1 =  80\n",
      "Number of points won by Player 2 =  120\n",
      "\n",
      "Player 1 cards:  11  and  9\n",
      "Player 2 cards:  12  and  8\n",
      "\n",
      "Sum of values of Player 1 cards:  20\n",
      "Sum of values of Player 2 cards:  20\n",
      "\n",
      "It is a tie, taking next two cards\n",
      "\n",
      "Player 1 cards:  6  and  13\n",
      "Player 2 cards:  4  and  10\n",
      "\n",
      "Sum of values of Player 1 cards:  19\n",
      "Sum of values of Player 2 cards:  14\n",
      "\n",
      "Player 1 wins this round\n",
      "\n",
      "Number of points won by Player 1 =  153\n",
      "Number of points won by Player 2 =  120\n",
      "\n",
      "Player 1 cards:  11  and  4\n",
      "Player 2 cards:  13  and  5\n",
      "\n",
      "Sum of values of Player 1 cards:  15\n",
      "Sum of values of Player 2 cards:  18\n",
      "\n",
      "Player 2 wins this round\n",
      "\n",
      "Number of points won by Player 1 =  153\n",
      "Number of points won by Player 2 =  153\n",
      "\n",
      "Player 1 cards:  8  and  10\n",
      "Player 2 cards:  6  and  5\n",
      "\n",
      "Sum of values of Player 1 cards:  18\n",
      "Sum of values of Player 2 cards:  11\n",
      "\n",
      "Player 1 wins this round\n",
      "Number of points won by Player 1 =  182\n",
      "Number of points won by Player 2 =  153\n",
      "\n",
      "Player 1 cards:  5  and  13\n",
      "Player 2 cards:  9  and  2\n",
      "\n",
      "Sum of values of Player 1 cards:  18\n",
      "Sum of values of Player 2 cards:  11\n",
      "\n",
      "Player 1 wins this round\n",
      "Number of points won by Player 1 =  211\n",
      "Number of points won by Player 2 =  153\n",
      "\n",
      "Player 1 wins!\n",
      "Final Total of cards of Player 1: 211\n",
      "\n",
      "Player 2 loses!\n",
      "Final Total of cards of Player 2: 153\n"
     ]
    }
   ],
   "source": [
    "# Calling function\n",
    "play()"
   ]
  },
  {
   "cell_type": "markdown",
   "metadata": {},
   "source": [
    "Given the implemented game, below is the analysis of the gameplay. I have chosen to simulate 20 games of Addition War, and perform the following analyses:\n",
    "\n",
    "* Extracted the final scores for the winning and losing players, and produced descriptive statistics for each scenario, specifically the minimum, mean, and maximum totals after each game.\n",
    "* Found out what proportion of games resulted in a winner that had a lower initial total than their opponent, found the lowest initial total to win a game (or conversely, the highest initial total to lose a game)\n",
    "* Calculated the correlation between the initial and final totals for winners vs. losers. Determine the relationship between the initial and final totals."
   ]
  },
  {
   "cell_type": "code",
   "execution_count": 8,
   "metadata": {},
   "outputs": [],
   "source": [
    "def game(): # defining game function\n",
    "    global Wins_P1 # declaring global variables\n",
    "    global Wins_P2\n",
    "    global tie_flag\n",
    "    global total_tie_sum\n",
    "    global WinnerTotals\n",
    "    global LoserTotals\n",
    "    global count_draws\n",
    "    \n",
    "    InitTotal_P1 = np.sum(Deal2[0]) # sum of all cards initially handed to Player 1\n",
    "    InitTotal_P2 = np.sum(Deal2[1]) # sum of all cards initially handed to Player 2\n",
    "    \n",
    "    while (len(Deal2[0])>0 and len(Deal2[1])>0): # while Player 1 and 2 have cards\n",
    "        card1_Player1 = Deal2[0].pop(0) # getting 1st card for Player 1\n",
    "        card2_Player1 = Deal2[0].pop(0) # getting 2nd card for Player 1\n",
    "        \n",
    "        card1_Player2 = Deal2[1].pop(0) # getting 1st card for Player 2\n",
    "        card2_Player2 = Deal2[1].pop(0) # getting 2nd card for Player 2\n",
    "        \n",
    "        sum_Player1 = card1_Player1 + card2_Player1 # taking sum of values of cards of Player 1\n",
    "        sum_Player2 = card1_Player2 + card2_Player2 # taking sum of values of cards of Player 2\n",
    "        \n",
    "        if sum_Player1 > sum_Player2: # if sum of values of cards of Player 1 > sum of values of cards of Player 2\n",
    "            if tie_flag == 0: # if previous round was not tie\n",
    "                Wins_P1 += sum_Player1 + sum_Player2 # points won by Player 1 in case of no tie\n",
    "            \n",
    "            elif tie_flag == 1: # in case previous round was a tie\n",
    "                Wins_P1 += sum_Player1 + sum_Player2 + total_tie_sum # points won by Player 1 in case of tie\n",
    "                tie_flag = 0 # breaking the tie\n",
    "                total_tie_sum = 0 # removing residual tie\n",
    "            \n",
    "        elif sum_Player2 > sum_Player1: # if sum of values of cards of Player 2 > sum of values of cards of Player 1\n",
    "            if tie_flag == 0: # if previous round was not tie\n",
    "                Wins_P2 += sum_Player1 + sum_Player2 # points won by Player 1 in case of no tie\n",
    "            \n",
    "            elif tie_flag == 1: # in case previous round was a tie\n",
    "                Wins_P2 += sum_Player1 + sum_Player2 + total_tie_sum # points won by Player 1 in case of tie\n",
    "                tie_flag = 0 # breaking the tie\n",
    "                total_tie_sum = 0 # removing residual tie\n",
    "            \n",
    "        elif sum_Player2 == sum_Player1: # in case of tie\n",
    "            tie_flag = 1 # changing tie indicator to 1\n",
    "            tie_sum = sum_Player1 + sum_Player2 # residual sum is sum of values of cards of both players\n",
    "            total_tie_sum += tie_sum # adding to total tie sum, takes care of scenarios where there are continous ties\n",
    "    \n",
    "    if Wins_P1 > Wins_P2: # if player 1 wins a game\n",
    "        winner = 1 # assigning winner\n",
    "        loser = 2 # assigning loser\n",
    "        WinnerTotals.append(('W',winner, InitTotal_P1, Wins_P1)) # appending list for winner\n",
    "        LoserTotals.append(('L',loser, InitTotal_P2, Wins_P2)) # appending list for loser\n",
    "    \n",
    "    elif Wins_P2 > Wins_P1: # if player 2 wins a game\n",
    "        winner = 2 # assigning winner\n",
    "        loser = 1 # assigning loser\n",
    "        WinnerTotals.append(('W',winner, InitTotal_P2, Wins_P2)) # appending list for winner\n",
    "        LoserTotals.append(('L',loser, InitTotal_P1, Wins_P1)) # appending list for loser\n",
    "        \n",
    "    elif Wins_P2 == Wins_P1: # in case of tie\n",
    "        winner = 0\n",
    "        count_draws +=1 # increasing counter of ties\n",
    "\n",
    "    return WinnerTotals,LoserTotals,count_draws"
   ]
  },
  {
   "cell_type": "code",
   "execution_count": 9,
   "metadata": {},
   "outputs": [
    {
     "name": "stdout",
     "output_type": "stream",
     "text": [
      "\n",
      "Round number:  1\n",
      "Player 1 has the cards:\n",
      " [10, 8, 4, 7, 11, 4, 6, 12, 12, 4, 13, 3, 11, 2, 3, 7, 8, 8, 7, 3, 10, 2, 5, 13, 1, 11]\n",
      "\n",
      "Player 2 has the cards:\n",
      " [12, 13, 11, 9, 10, 2, 13, 4, 5, 7, 1, 5, 1, 2, 3, 9, 9, 5, 12, 6, 10, 6, 8, 6, 9, 1]\n",
      "\n",
      "Round number:  2\n",
      "Player 1 has the cards:\n",
      " [13, 11, 7, 10, 12, 6, 5, 1, 8, 6, 8, 2, 4, 4, 8, 6, 1, 12, 7, 1, 5, 1, 13, 3, 6, 7]\n",
      "\n",
      "Player 2 has the cards:\n",
      " [3, 10, 12, 8, 2, 4, 13, 9, 3, 7, 5, 9, 2, 13, 9, 5, 11, 2, 12, 10, 10, 11, 9, 3, 4, 11]\n",
      "\n",
      "Round number:  3\n",
      "Player 1 has the cards:\n",
      " [2, 8, 3, 12, 4, 8, 11, 11, 12, 6, 12, 1, 10, 9, 1, 11, 4, 2, 9, 9, 6, 8, 1, 3, 10, 7]\n",
      "\n",
      "Player 2 has the cards:\n",
      " [5, 5, 7, 13, 3, 13, 13, 2, 6, 11, 4, 9, 5, 13, 12, 4, 10, 7, 10, 1, 6, 5, 3, 2, 7, 8]\n",
      "\n",
      "Round number:  4\n",
      "Player 1 has the cards:\n",
      " [7, 2, 7, 12, 2, 9, 12, 3, 5, 3, 10, 10, 6, 11, 9, 13, 4, 9, 4, 11, 1, 6, 1, 5, 13, 8]\n",
      "\n",
      "Player 2 has the cards:\n",
      " [4, 8, 1, 1, 11, 6, 2, 8, 7, 8, 13, 10, 4, 11, 7, 3, 9, 5, 6, 3, 10, 12, 2, 12, 5, 13]\n",
      "\n",
      "Round number:  5\n",
      "Player 1 has the cards:\n",
      " [1, 10, 7, 2, 10, 13, 13, 10, 12, 12, 7, 13, 4, 3, 10, 2, 2, 4, 8, 5, 6, 2, 1, 7, 8, 11]\n",
      "\n",
      "Player 2 has the cards:\n",
      " [9, 6, 3, 12, 8, 12, 4, 9, 5, 11, 9, 6, 13, 9, 5, 7, 11, 1, 1, 3, 4, 6, 11, 8, 5, 3]\n",
      "\n",
      "Round number:  6\n",
      "Player 1 has the cards:\n",
      " [11, 5, 7, 7, 5, 3, 11, 11, 13, 12, 12, 4, 2, 13, 9, 8, 11, 4, 2, 1, 9, 6, 12, 8, 8, 7]\n",
      "\n",
      "Player 2 has the cards:\n",
      " [3, 6, 9, 6, 5, 8, 1, 9, 10, 13, 10, 3, 2, 2, 13, 3, 1, 10, 4, 12, 10, 7, 4, 1, 5, 6]\n",
      "\n",
      "Round number:  7\n",
      "Player 1 has the cards:\n",
      " [5, 8, 13, 5, 10, 8, 7, 4, 9, 6, 8, 1, 10, 11, 5, 12, 7, 7, 2, 3, 2, 1, 11, 6, 1, 11]\n",
      "\n",
      "Player 2 has the cards:\n",
      " [3, 12, 9, 1, 6, 2, 9, 7, 11, 10, 9, 13, 13, 10, 3, 13, 8, 12, 2, 4, 12, 4, 3, 5, 4, 6]\n",
      "\n",
      "Round number:  8\n",
      "Player 1 has the cards:\n",
      " [6, 3, 4, 13, 6, 8, 12, 10, 2, 8, 4, 9, 1, 13, 5, 4, 8, 12, 1, 10, 9, 11, 3, 3, 2, 5]\n",
      "\n",
      "Player 2 has the cards:\n",
      " [2, 5, 8, 11, 7, 10, 13, 1, 7, 10, 6, 1, 3, 6, 9, 11, 12, 9, 5, 7, 7, 13, 11, 12, 2, 4]\n",
      "\n",
      "Round number:  9\n",
      "Player 1 has the cards:\n",
      " [3, 5, 7, 11, 4, 1, 4, 10, 6, 11, 10, 3, 2, 10, 13, 9, 11, 1, 5, 13, 7, 13, 10, 1, 12, 9]\n",
      "\n",
      "Player 2 has the cards:\n",
      " [12, 5, 7, 2, 6, 3, 6, 12, 8, 13, 8, 12, 5, 1, 7, 9, 8, 9, 4, 8, 11, 2, 4, 2, 3, 6]\n",
      "\n",
      "Round number:  10\n",
      "Player 1 has the cards:\n",
      " [8, 2, 9, 6, 9, 7, 6, 3, 9, 8, 2, 10, 7, 5, 1, 12, 8, 11, 7, 5, 6, 6, 1, 8, 10, 3]\n",
      "\n",
      "Player 2 has the cards:\n",
      " [11, 4, 13, 11, 10, 4, 1, 12, 12, 7, 4, 5, 11, 9, 5, 4, 13, 2, 2, 3, 10, 1, 12, 13, 3, 13]\n",
      "\n",
      "Round number:  11\n",
      "Player 1 has the cards:\n",
      " [13, 3, 4, 2, 7, 8, 2, 5, 13, 2, 6, 3, 1, 8, 12, 3, 7, 4, 6, 13, 13, 1, 6, 1, 7, 12]\n",
      "\n",
      "Player 2 has the cards:\n",
      " [9, 9, 10, 7, 11, 5, 8, 12, 10, 4, 10, 9, 4, 9, 11, 6, 5, 11, 11, 1, 3, 8, 2, 5, 12, 10]\n",
      "\n",
      "Round number:  12\n",
      "Player 1 has the cards:\n",
      " [13, 4, 8, 11, 7, 10, 12, 13, 11, 1, 8, 12, 8, 11, 5, 2, 1, 6, 3, 1, 8, 5, 5, 9, 1, 13]\n",
      "\n",
      "Player 2 has the cards:\n",
      " [10, 6, 9, 9, 2, 7, 13, 3, 7, 4, 3, 5, 10, 7, 12, 12, 6, 4, 3, 6, 10, 4, 2, 9, 11, 2]\n",
      "\n",
      "Round number:  13\n",
      "Player 1 has the cards:\n",
      " [10, 13, 5, 7, 10, 7, 12, 7, 5, 8, 9, 2, 3, 1, 6, 4, 11, 1, 13, 5, 11, 3, 10, 6, 13, 3]\n",
      "\n",
      "Player 2 has the cards:\n",
      " [12, 5, 1, 3, 9, 8, 2, 9, 6, 12, 8, 13, 12, 6, 11, 1, 4, 2, 8, 11, 4, 10, 7, 4, 9, 2]\n",
      "\n",
      "Round number:  14\n",
      "Player 1 has the cards:\n",
      " [11, 11, 6, 7, 4, 7, 2, 11, 10, 6, 12, 5, 2, 6, 8, 13, 3, 5, 4, 7, 6, 4, 5, 9, 13, 2]\n",
      "\n",
      "Player 2 has the cards:\n",
      " [12, 9, 3, 12, 11, 1, 10, 8, 12, 3, 8, 3, 1, 8, 13, 10, 5, 1, 4, 9, 7, 2, 1, 9, 10, 13]\n",
      "\n",
      "Round number:  15\n",
      "Player 1 has the cards:\n",
      " [5, 11, 2, 5, 3, 12, 8, 6, 3, 4, 10, 7, 6, 13, 9, 8, 8, 3, 11, 5, 9, 12, 13, 1, 4, 10]\n",
      "\n",
      "Player 2 has the cards:\n",
      " [11, 8, 2, 7, 12, 10, 9, 9, 11, 6, 2, 1, 7, 4, 5, 7, 1, 6, 1, 10, 4, 2, 3, 13, 12, 13]\n",
      "\n",
      "Round number:  16\n",
      "Player 1 has the cards:\n",
      " [13, 2, 11, 12, 12, 6, 11, 9, 13, 1, 13, 8, 3, 10, 6, 2, 3, 4, 3, 7, 5, 7, 1, 8, 1, 2]\n",
      "\n",
      "Player 2 has the cards:\n",
      " [3, 8, 12, 6, 1, 7, 9, 4, 9, 9, 5, 13, 10, 11, 8, 10, 7, 5, 10, 4, 4, 11, 2, 6, 12, 5]\n",
      "\n",
      "Round number:  17\n",
      "Player 1 has the cards:\n",
      " [11, 13, 12, 9, 1, 6, 2, 9, 12, 3, 8, 8, 9, 2, 13, 8, 1, 7, 5, 12, 12, 1, 11, 7, 4, 8]\n",
      "\n",
      "Player 2 has the cards:\n",
      " [2, 9, 7, 4, 10, 5, 5, 2, 6, 3, 3, 10, 11, 13, 5, 4, 4, 13, 1, 10, 6, 3, 6, 11, 10, 7]\n",
      "\n",
      "Round number:  18\n",
      "Player 1 has the cards:\n",
      " [1, 1, 12, 12, 8, 5, 5, 9, 8, 3, 8, 11, 5, 4, 1, 13, 10, 6, 11, 7, 9, 8, 13, 2, 7, 6]\n",
      "\n",
      "Player 2 has the cards:\n",
      " [4, 9, 4, 2, 2, 10, 7, 6, 11, 10, 5, 2, 13, 11, 4, 12, 10, 7, 3, 3, 13, 1, 6, 12, 3, 9]\n",
      "\n",
      "Round number:  19\n",
      "Player 1 has the cards:\n",
      " [8, 5, 1, 2, 3, 9, 11, 1, 11, 9, 3, 13, 4, 1, 5, 13, 13, 2, 4, 12, 13, 2, 8, 7, 1, 4]\n",
      "\n",
      "Player 2 has the cards:\n",
      " [3, 2, 11, 12, 6, 3, 10, 8, 5, 9, 7, 12, 11, 10, 12, 9, 7, 10, 4, 8, 6, 6, 5, 7, 6, 10]\n",
      "\n",
      "Round number:  20\n",
      "Player 1 has the cards:\n",
      " [2, 8, 1, 1, 3, 1, 10, 9, 7, 6, 3, 10, 1, 12, 9, 2, 13, 2, 11, 7, 13, 11, 4, 11, 5, 5]\n",
      "\n",
      "Player 2 has the cards:\n",
      " [8, 8, 6, 9, 10, 4, 8, 6, 5, 13, 5, 4, 3, 12, 7, 12, 4, 10, 11, 3, 13, 7, 9, 12, 6, 2]\n"
     ]
    }
   ],
   "source": [
    "WinnerTotals = [] # initializing global variables\n",
    "LoserTotals = []\n",
    "count_draws = 0\n",
    "for i in range(20): # running 20 times\n",
    "    print('\\nRound number: ',i+1)\n",
    "    Deal2 = deal() # dealing cards\n",
    "    print('Player 1 has the cards:\\n', Deal2[0])\n",
    "    print('\\nPlayer 2 has the cards:\\n',Deal2[1])\n",
    "    Wins_P1 = 0 # initializing global variables\n",
    "    Wins_P2 = 0\n",
    "    tie_flag = 0\n",
    "    total_tie_sum = 0\n",
    "    FinalTotal_P1 = 0\n",
    "    FinalTotal_P2 = 0\n",
    "    GameWinner, GameLoser,GameDraws = game() # running game() and storing results"
   ]
  },
  {
   "cell_type": "code",
   "execution_count": 10,
   "metadata": {},
   "outputs": [
    {
     "name": "stdout",
     "output_type": "stream",
     "text": [
      "\t\t\t Winners Table\n",
      "\n",
      "Win/Loss?      Player 1/Player 2?    Initial Total    Final total\n",
      "-----------  --------------------  ---------------  -------------\n",
      "W                               1              185            212\n",
      "W                               2              197            251\n",
      "W                               1              180            221\n",
      "W                               2              181            191\n",
      "W                               1              183            198\n",
      "W                               1              201            263\n",
      "W                               2              191            230\n",
      "W                               2              192            256\n",
      "W                               1              191            193\n",
      "W                               2              195            217\n",
      "W                               2              202            279\n",
      "W                               1              188            276\n",
      "W                               1              185            220\n",
      "W                               2              185            205\n",
      "W                               2              176            213\n",
      "W                               1              194            253\n",
      "W                               1              185            188\n",
      "W                               2              199            209\n",
      "W                               2              197            186\n"
     ]
    }
   ],
   "source": [
    "from tabulate import tabulate\n",
    "print('\\t\\t\\t Winners Table\\n') # printing winner table\n",
    "print(tabulate(GameWinner, headers=['Win/Loss?','Player 1/Player 2?','Initial Total', 'Final total']))"
   ]
  },
  {
   "cell_type": "code",
   "execution_count": 11,
   "metadata": {},
   "outputs": [
    {
     "name": "stdout",
     "output_type": "stream",
     "text": [
      "\t\t\t Losers Table\n",
      "\n",
      "Win/Loss?      Player 1/Player 2?    Initial Total    Final total\n",
      "-----------  --------------------  ---------------  -------------\n",
      "L                               2              179            152\n",
      "L                               1              167            113\n",
      "L                               2              184            143\n",
      "L                               1              183            173\n",
      "L                               2              181            166\n",
      "L                               2              163            101\n",
      "L                               1              173            134\n",
      "L                               1              172            108\n",
      "L                               2              173            171\n",
      "L                               1              169            147\n",
      "L                               1              162             85\n",
      "L                               2              176             88\n",
      "L                               2              179            144\n",
      "L                               1              179            159\n",
      "L                               1              188            151\n",
      "L                               2              170            111\n",
      "L                               2              179            176\n",
      "L                               1              165            155\n",
      "L                               1              167            178\n"
     ]
    }
   ],
   "source": [
    "print('\\t\\t\\t Losers Table\\n') # printing losers table\n",
    "print(tabulate(GameLoser, headers=['Win/Loss?','Player 1/Player 2?','Initial Total', 'Final total']))"
   ]
  },
  {
   "cell_type": "code",
   "execution_count": 12,
   "metadata": {},
   "outputs": [
    {
     "name": "stdout",
     "output_type": "stream",
     "text": [
      "Maximum winning total at the end of the game =  279\n",
      "Minimum winning total at the end of the game =  186\n",
      "Mean winning total at the end of the game =  224.26315789473685\n"
     ]
    }
   ],
   "source": [
    "print('Maximum winning total at the end of the game = ', max(np.array(GameWinner)[:,3]))\n",
    "print('Minimum winning total at the end of the game = ', min(np.array(GameWinner)[:,3]))\n",
    "print('Mean winning total at the end of the game = ', np.mean((np.array(GameWinner)[:,3]).astype(np.float)))"
   ]
  },
  {
   "cell_type": "code",
   "execution_count": 13,
   "metadata": {},
   "outputs": [
    {
     "name": "stdout",
     "output_type": "stream",
     "text": [
      "Maximum losing total at the end of the game =  88\n",
      "Minimum losing total at the end of the game =  101\n",
      "Mean losing total at the end of the game =  139.73684210526315\n"
     ]
    }
   ],
   "source": [
    "print('Maximum losing total at the end of the game = ', max(np.array(GameLoser)[:,3]))\n",
    "print('Minimum losing total at the end of the game = ', min(np.array(GameLoser)[:,3]))\n",
    "print('Mean losing total at the end of the game = ', np.mean((np.array(GameLoser)[:,3]).astype(np.float)))"
   ]
  },
  {
   "cell_type": "code",
   "execution_count": 14,
   "metadata": {},
   "outputs": [
    {
     "name": "stdout",
     "output_type": "stream",
     "text": [
      "  Winning Totals    Losing Totals\n",
      "----------------  ---------------\n",
      "             212              152\n",
      "             251              113\n",
      "             221              143\n",
      "             191              173\n",
      "             198              166\n",
      "             263              101\n",
      "             230              134\n",
      "             256              108\n",
      "             193              171\n",
      "             217              147\n",
      "             279               85\n",
      "             276               88\n",
      "             220              144\n",
      "             205              159\n",
      "             213              151\n",
      "             253              111\n",
      "             188              176\n",
      "             209              155\n",
      "             186              178\n"
     ]
    }
   ],
   "source": [
    "# Observing winning and losing totals\n",
    "Winning_Totals = np.array(GameWinner)[:,3]\n",
    "Losing_Totals = np.array(GameLoser)[:,3]\n",
    "results = zip(Winning_Totals,Losing_Totals)\n",
    "print(tabulate(results, headers=[\"Winning Totals\", \"Losing Totals\"]))"
   ]
  },
  {
   "cell_type": "markdown",
   "metadata": {},
   "source": [
    "We notice that winning totals are ALWAYS greater than half the value of the total deck.\n",
    "And the mean of winning totals is approximately 50 percent greater than the mean of the losing total.\n",
    "But this might be a generalization."
   ]
  },
  {
   "cell_type": "code",
   "execution_count": 15,
   "metadata": {},
   "outputs": [
    {
     "name": "stdout",
     "output_type": "stream",
     "text": [
      "\n",
      "Winners Initial Total = 180\n",
      "Losers Initial Total = 184\n",
      "\n",
      "Winners Initial Total = 181\n",
      "Losers Initial Total = 183\n",
      "Proportion of games that resulted in a winner that had lower initial total =  0.1\n"
     ]
    }
   ],
   "source": [
    "count = 0\n",
    "j=0\n",
    "for j in range(len(GameWinner[2])):\n",
    "    if(GameWinner[j][2]<GameLoser[j][2]):\n",
    "        print('\\nWinners Initial Total =',GameWinner[j][2])\n",
    "        print('Losers Initial Total =',GameLoser[j][2])\n",
    "        count+=1\n",
    "\n",
    "print('Proportion of games that resulted in a winner that had lower initial total = ',count/20)"
   ]
  },
  {
   "cell_type": "code",
   "execution_count": 16,
   "metadata": {},
   "outputs": [
    {
     "name": "stdout",
     "output_type": "stream",
     "text": [
      "Lowest initial total to win the game =  176\n",
      "Highest initial total to lose the game =  188\n"
     ]
    }
   ],
   "source": [
    "print('Lowest initial total to win the game = ',min(np.array(GameWinner)[:,2]))\n",
    "print('Highest initial total to lose the game = ',max(np.array(GameLoser)[:,2]))"
   ]
  },
  {
   "cell_type": "code",
   "execution_count": 17,
   "metadata": {},
   "outputs": [
    {
     "data": {
      "text/plain": [
       "array([[1.        , 0.46917882],\n",
       "       [0.46917882, 1.        ]])"
      ]
     },
     "execution_count": 17,
     "metadata": {},
     "output_type": "execute_result"
    }
   ],
   "source": [
    "Winner_Correlation = np.corrcoef(((np.array(GameWinner)[:,2]).astype(np.int)),((np.array(GameWinner)[:,3]).astype(np.int)))\n",
    "Winner_Correlation"
   ]
  },
  {
   "cell_type": "code",
   "execution_count": 18,
   "metadata": {},
   "outputs": [
    {
     "data": {
      "text/plain": [
       "array([[1.        , 0.46917882],\n",
       "       [0.46917882, 1.        ]])"
      ]
     },
     "execution_count": 18,
     "metadata": {},
     "output_type": "execute_result"
    }
   ],
   "source": [
    "Loser_Correlation = np.corrcoef(((np.array(GameLoser)[:,2]).astype(np.int)),((np.array(GameLoser)[:,3]).astype(np.int)))\n",
    "Loser_Correlation"
   ]
  },
  {
   "cell_type": "markdown",
   "metadata": {},
   "source": [
    "We see that the correlation between initial and final totals is exactly equal for both winners and losers.\n",
    "This means that, as the initial total goes up, the final total also goes up, it indicates a positive relationship.\n",
    "This applies for both winners and losers"
   ]
  }
 ],
 "metadata": {
  "kernelspec": {
   "display_name": "Python 3",
   "language": "python",
   "name": "python3"
  },
  "language_info": {
   "codemirror_mode": {
    "name": "ipython",
    "version": 3
   },
   "file_extension": ".py",
   "mimetype": "text/x-python",
   "name": "python",
   "nbconvert_exporter": "python",
   "pygments_lexer": "ipython3",
   "version": "3.7.1"
  }
 },
 "nbformat": 4,
 "nbformat_minor": 2
}
